{
 "cells": [
  {
   "cell_type": "code",
   "execution_count": 16,
   "metadata": {
    "collapsed": true
   },
   "outputs": [],
   "source": [
    "import pandas as pd"
   ]
  },
  {
   "cell_type": "markdown",
   "metadata": {},
   "source": [
    "### Application Mobile for Addiction\n",
    "The following scenario is a fiction:\n",
    "A medical institute that aims to prevent and treat gambling addictions wants to build a dedicated mobile app to help lottery addicts better estimate their chances of winning. The institute has a team of engineers that will build the app, but they need us to create the logical core of the app and calculate probabilities.\n",
    "\n",
    "the app should be able to tell the customer :\n",
    "- What is the probability of winning the big prize with a single ticket?\n",
    "- What is the probability of winning the big prize if we play 40 different tickets (or any other number)?\n",
    "- What is the probability of having at least five (or four, or three, or two) winning numbers on a single ticket?\n",
    "\n",
    "We gonna use the dataset https://www.kaggle.com/datascienceai/lottery-dataset it contains 3665 drawings dating from 1982 to 2018 from the national 6/49 lottery game in Canada.\n",
    "\n",
    "**how does the 6/49 lottery work?**\n",
    "- 6 numbers are drawn \n",
    "- from a set of 49 numbers (1 t 49)\n",
    "- drawing done *without replacement*\n",
    "- there are combinations and NOT permutations"
   ]
  },
  {
   "cell_type": "markdown",
   "metadata": {},
   "source": [
    "#### Core functions\n",
    "Because we gonna use them frequently in this project, let's right a function that compute factorials and another one the number of combinations."
   ]
  },
  {
   "cell_type": "code",
   "execution_count": 17,
   "metadata": {
    "collapsed": true
   },
   "outputs": [],
   "source": [
    "#factorial\n",
    "def factorial(n):\n",
    "    total=1\n",
    "    for i in range(1,n+1):\n",
    "        total = total * i\n",
    "    return total\n",
    "\n",
    "def combinations(n,k):\n",
    "    numerator= factorial(n)\n",
    "    denominator=factorial(k)*factorial(n-k)\n",
    "    return numerator/denominator"
   ]
  },
  {
   "cell_type": "code",
   "execution_count": 18,
   "metadata": {
    "collapsed": false
   },
   "outputs": [
    {
     "name": "stdout",
     "output_type": "stream",
     "text": [
      "6\n",
      "13983816.0\n"
     ]
    }
   ],
   "source": [
    "#test  functions\n",
    "print(factorial(3))\n",
    "print(combinations(49,6))"
   ]
  },
  {
   "cell_type": "markdown",
   "metadata": {},
   "source": [
    "### One ticket probability\n",
    "We discussed with the engineering team of the medical institute, and they told us we need to be aware of the following details when we write the function:\n",
    "\n",
    "- Inside the app, the user inputs six different numbers from 1 to 49.\n",
    "- Under the hood, the six numbers will come as a Python list, which will serve as the single input to our function.\n",
    "- The engineering team wants the function to print the probability value in a friendly way — in a way that people without any probability training are able to understand."
   ]
  },
  {
   "cell_type": "markdown",
   "metadata": {},
   "source": [
    "the proba to win with 6 numbers is 1 in 13,983,816 according to https://en.wikipedia.org/wiki/Lotto_6/49\n"
   ]
  },
  {
   "cell_type": "code",
   "execution_count": 19,
   "metadata": {
    "collapsed": true
   },
   "outputs": [],
   "source": [
    "#function that compute the proba to win \n",
    "def one_ticket_probability(array):\n",
    "    lenght= len(array)\n",
    "    if lenght != 6:\n",
    "        return 'I do not know what game you play but surely not 6/49 lotery! You need 6 numbers'\n",
    "    for i in array:\n",
    "        if i > 49:\n",
    "            return 'One of the numbers is too high'\n",
    "    total_combinations=int(combinations(49,6))\n",
    "    outcomes=1\n",
    "    p_win= 1 / total_combinations *100\n",
    "    return 'Your chance to win with {0} numbers is {1:1.7f}% which corresponds to 1 chance out of {2:,} with the numbers {3} '.format(lenght,p_win,total_combinations,array)"
   ]
  },
  {
   "cell_type": "code",
   "execution_count": 20,
   "metadata": {
    "collapsed": false
   },
   "outputs": [
    {
     "data": {
      "text/plain": [
       "'Your chance to win with 6 numbers is 0.0000072% which corresponds to 1 chance out of 13,983,816 with the numbers [49, 3, 4, 5, 6, 7] '"
      ]
     },
     "execution_count": 20,
     "metadata": {},
     "output_type": "execute_result"
    }
   ],
   "source": [
    "#test function\n",
    "one_ticket_probability([49,3,4,5,6,7])"
   ]
  },
  {
   "cell_type": "code",
   "execution_count": 21,
   "metadata": {
    "collapsed": false
   },
   "outputs": [
    {
     "data": {
      "text/plain": [
       "'I do not know what game you play but surely not 6/49 lotery! You need 6 numbers'"
      ]
     },
     "execution_count": 21,
     "metadata": {},
     "output_type": "execute_result"
    }
   ],
   "source": [
    "#test when not enough numbers\n",
    "one_ticket_probability([1,1,1,1,1])"
   ]
  },
  {
   "cell_type": "code",
   "execution_count": 22,
   "metadata": {
    "collapsed": false
   },
   "outputs": [
    {
     "data": {
      "text/plain": [
       "'One of the numbers is too high'"
      ]
     },
     "execution_count": 22,
     "metadata": {},
     "output_type": "execute_result"
    }
   ],
   "source": [
    "#test with a number above 49\n",
    "one_ticket_probability([1,1,1,1,1,56])"
   ]
  },
  {
   "cell_type": "markdown",
   "metadata": {},
   "source": [
    "- We wrote a function that will give the player its chance of wining the big prize\n",
    "- we paid attention that the numbers are below 49 and that 6 numbers are provided\n"
   ]
  },
  {
   "cell_type": "markdown",
   "metadata": {},
   "source": [
    "### Historical Data Check for Canada Lottery\n",
    "\n",
    "in the next blocs, we gonna open the dataset, inspect the format of the data (numbers, date....)"
   ]
  },
  {
   "cell_type": "code",
   "execution_count": 23,
   "metadata": {
    "collapsed": false
   },
   "outputs": [],
   "source": [
    "drawns_loto = pd.read_csv('649.csv',parse_dates=True)"
   ]
  },
  {
   "cell_type": "code",
   "execution_count": 24,
   "metadata": {
    "collapsed": false
   },
   "outputs": [],
   "source": [
    "#fix the date #optional for now\n",
    "#drawns_loto['DRAW DATE']=drawns_loto['DRAW DATE'].astype('datetime64[ns]')"
   ]
  },
  {
   "cell_type": "code",
   "execution_count": 25,
   "metadata": {
    "collapsed": false
   },
   "outputs": [
    {
     "name": "stdout",
     "output_type": "stream",
     "text": [
      "<class 'pandas.core.frame.DataFrame'>\n",
      "RangeIndex: 3665 entries, 0 to 3664\n",
      "Data columns (total 11 columns):\n",
      "PRODUCT            3665 non-null int64\n",
      "DRAW NUMBER        3665 non-null int64\n",
      "SEQUENCE NUMBER    3665 non-null int64\n",
      "DRAW DATE          3665 non-null object\n",
      "NUMBER DRAWN 1     3665 non-null int64\n",
      "NUMBER DRAWN 2     3665 non-null int64\n",
      "NUMBER DRAWN 3     3665 non-null int64\n",
      "NUMBER DRAWN 4     3665 non-null int64\n",
      "NUMBER DRAWN 5     3665 non-null int64\n",
      "NUMBER DRAWN 6     3665 non-null int64\n",
      "BONUS NUMBER       3665 non-null int64\n",
      "dtypes: int64(10), object(1)\n",
      "memory usage: 315.0+ KB\n"
     ]
    }
   ],
   "source": [
    "drawns_loto.info()"
   ]
  },
  {
   "cell_type": "code",
   "execution_count": 26,
   "metadata": {
    "collapsed": false
   },
   "outputs": [
    {
     "data": {
      "text/html": [
       "<div>\n",
       "<style scoped>\n",
       "    .dataframe tbody tr th:only-of-type {\n",
       "        vertical-align: middle;\n",
       "    }\n",
       "\n",
       "    .dataframe tbody tr th {\n",
       "        vertical-align: top;\n",
       "    }\n",
       "\n",
       "    .dataframe thead th {\n",
       "        text-align: right;\n",
       "    }\n",
       "</style>\n",
       "<table border=\"1\" class=\"dataframe\">\n",
       "  <thead>\n",
       "    <tr style=\"text-align: right;\">\n",
       "      <th></th>\n",
       "      <th>PRODUCT</th>\n",
       "      <th>DRAW NUMBER</th>\n",
       "      <th>SEQUENCE NUMBER</th>\n",
       "      <th>DRAW DATE</th>\n",
       "      <th>NUMBER DRAWN 1</th>\n",
       "      <th>NUMBER DRAWN 2</th>\n",
       "      <th>NUMBER DRAWN 3</th>\n",
       "      <th>NUMBER DRAWN 4</th>\n",
       "      <th>NUMBER DRAWN 5</th>\n",
       "      <th>NUMBER DRAWN 6</th>\n",
       "      <th>BONUS NUMBER</th>\n",
       "    </tr>\n",
       "  </thead>\n",
       "  <tbody>\n",
       "    <tr>\n",
       "      <th>0</th>\n",
       "      <td>649</td>\n",
       "      <td>1</td>\n",
       "      <td>0</td>\n",
       "      <td>6/12/1982</td>\n",
       "      <td>3</td>\n",
       "      <td>11</td>\n",
       "      <td>12</td>\n",
       "      <td>14</td>\n",
       "      <td>41</td>\n",
       "      <td>43</td>\n",
       "      <td>13</td>\n",
       "    </tr>\n",
       "    <tr>\n",
       "      <th>1</th>\n",
       "      <td>649</td>\n",
       "      <td>2</td>\n",
       "      <td>0</td>\n",
       "      <td>6/19/1982</td>\n",
       "      <td>8</td>\n",
       "      <td>33</td>\n",
       "      <td>36</td>\n",
       "      <td>37</td>\n",
       "      <td>39</td>\n",
       "      <td>41</td>\n",
       "      <td>9</td>\n",
       "    </tr>\n",
       "    <tr>\n",
       "      <th>2</th>\n",
       "      <td>649</td>\n",
       "      <td>3</td>\n",
       "      <td>0</td>\n",
       "      <td>6/26/1982</td>\n",
       "      <td>1</td>\n",
       "      <td>6</td>\n",
       "      <td>23</td>\n",
       "      <td>24</td>\n",
       "      <td>27</td>\n",
       "      <td>39</td>\n",
       "      <td>34</td>\n",
       "    </tr>\n",
       "    <tr>\n",
       "      <th>3</th>\n",
       "      <td>649</td>\n",
       "      <td>4</td>\n",
       "      <td>0</td>\n",
       "      <td>7/3/1982</td>\n",
       "      <td>3</td>\n",
       "      <td>9</td>\n",
       "      <td>10</td>\n",
       "      <td>13</td>\n",
       "      <td>20</td>\n",
       "      <td>43</td>\n",
       "      <td>34</td>\n",
       "    </tr>\n",
       "    <tr>\n",
       "      <th>4</th>\n",
       "      <td>649</td>\n",
       "      <td>5</td>\n",
       "      <td>0</td>\n",
       "      <td>7/10/1982</td>\n",
       "      <td>5</td>\n",
       "      <td>14</td>\n",
       "      <td>21</td>\n",
       "      <td>31</td>\n",
       "      <td>34</td>\n",
       "      <td>47</td>\n",
       "      <td>45</td>\n",
       "    </tr>\n",
       "  </tbody>\n",
       "</table>\n",
       "</div>"
      ],
      "text/plain": [
       "   PRODUCT  DRAW NUMBER  SEQUENCE NUMBER  DRAW DATE  NUMBER DRAWN 1  \\\n",
       "0      649            1                0  6/12/1982               3   \n",
       "1      649            2                0  6/19/1982               8   \n",
       "2      649            3                0  6/26/1982               1   \n",
       "3      649            4                0   7/3/1982               3   \n",
       "4      649            5                0  7/10/1982               5   \n",
       "\n",
       "   NUMBER DRAWN 2  NUMBER DRAWN 3  NUMBER DRAWN 4  NUMBER DRAWN 5  \\\n",
       "0              11              12              14              41   \n",
       "1              33              36              37              39   \n",
       "2               6              23              24              27   \n",
       "3               9              10              13              20   \n",
       "4              14              21              31              34   \n",
       "\n",
       "   NUMBER DRAWN 6  BONUS NUMBER  \n",
       "0              43            13  \n",
       "1              41             9  \n",
       "2              39            34  \n",
       "3              43            34  \n",
       "4              47            45  "
      ]
     },
     "execution_count": 26,
     "metadata": {},
     "output_type": "execute_result"
    }
   ],
   "source": [
    "drawns_loto.head()"
   ]
  },
  {
   "cell_type": "markdown",
   "metadata": {},
   "source": [
    "### Function for Historical Data Check\n",
    "we gonna create a function that will let the palyer check if they would have win before with their ticket\n",
    "Once again the engineering team told us that:\n",
    "- Inside the app, the user inputs six different numbers from 1 to 49.\n",
    "- Under the hood, the six numbers will come as a Python list and serve as an input to our function.\n",
    "- they want a function that prints:\n",
    "    - the number of times the combination selected occurred in the Canada data set\n",
    "    - the probability of winning the big prize in the next drawing with that combination."
   ]
  },
  {
   "cell_type": "code",
   "execution_count": 27,
   "metadata": {
    "collapsed": false
   },
   "outputs": [
    {
     "data": {
      "text/plain": [
       "array([[ 3, 11, 12, 14, 41, 43],\n",
       "       [ 8, 33, 36, 37, 39, 41],\n",
       "       [ 1,  6, 23, 24, 27, 39],\n",
       "       ...,\n",
       "       [ 6, 22, 24, 31, 32, 34],\n",
       "       [ 2, 15, 21, 31, 38, 49],\n",
       "       [14, 24, 31, 35, 37, 48]])"
      ]
     },
     "execution_count": 27,
     "metadata": {},
     "output_type": "execute_result"
    }
   ],
   "source": [
    "drawns_loto[['NUMBER DRAWN 1', 'NUMBER DRAWN 2', 'NUMBER DRAWN 3', 'NUMBER DRAWN 4',\n",
    "       'NUMBER DRAWN 5', 'NUMBER DRAWN 6']].values"
   ]
  },
  {
   "cell_type": "code",
   "execution_count": 28,
   "metadata": {
    "collapsed": false
   },
   "outputs": [
    {
     "data": {
      "text/plain": [
       "0    {3, 41, 11, 12, 43, 14}\n",
       "1    {33, 36, 37, 39, 8, 41}\n",
       "2     {1, 6, 39, 23, 24, 27}\n",
       "3     {3, 9, 10, 43, 13, 20}\n",
       "4    {34, 5, 14, 47, 21, 31}\n",
       "dtype: object"
      ]
     },
     "execution_count": 28,
     "metadata": {},
     "output_type": "execute_result"
    }
   ],
   "source": [
    "def extract_numbers(row):\n",
    "    #when using the apply funciton on a dataframe we have a serie \n",
    "    #so we case extract columns that way:\n",
    "    row = row[4:10] \n",
    "    #extract the values of the rows selected\n",
    "    values = row.values\n",
    "    #pass the values as a set \n",
    "    values = set(values)\n",
    "    return values\n",
    "\n",
    "winning_numbers = drawns_loto.apply(extract_numbers, axis=1)\n",
    "winning_numbers.head()"
   ]
  },
  {
   "cell_type": "code",
   "execution_count": 29,
   "metadata": {
    "collapsed": false
   },
   "outputs": [],
   "source": [
    "def check_historical_occurence(input_user,database=winning_numbers):\n",
    "    lenght= len(input_user)\n",
    "    if lenght != 6:\n",
    "        return 'I do not know what game you play but surely not 6/49 lotery! You need 6 numbers'\n",
    "    for i in input_user:\n",
    "        if i > 49:\n",
    "            return 'One of the numbers is too high'\n",
    "    input_user = set(input_user)\n",
    "    times_drawn = input_user == winning_numbers\n",
    "    return 'The combinaison {0} has been a winner {1} time(s) in the past. You have 1 chance out of 13,983,816 to win with this combinaison'.format(input_user,times_drawn.sum()) "
   ]
  },
  {
   "cell_type": "code",
   "execution_count": 30,
   "metadata": {
    "collapsed": false
   },
   "outputs": [
    {
     "data": {
      "text/plain": [
       "'The combinaison {33, 36, 37, 39, 8, 41} has been a winner 1 time(s) in the past. You have 1 chance out of 13,983,816 to win with this combinaison'"
      ]
     },
     "execution_count": 30,
     "metadata": {},
     "output_type": "execute_result"
    }
   ],
   "source": [
    "check_historical_occurence([33,37,36, 39, 8, 41],winning_numbers)"
   ]
  },
  {
   "cell_type": "markdown",
   "metadata": {},
   "source": [
    "The function works as a boolean by testing the input combinaison of the user vs all the past wining combinaisons. as s True is 1 and False is 0 with python, a basic sum helps to find how many time this specific combination was played in the past. \n",
    "- in addition there are still the controls that\n",
    "    - 6 numbers were entered\n",
    "    - no numbers higher than 49"
   ]
  },
  {
   "cell_type": "markdown",
   "metadata": {},
   "source": [
    "### Multi-ticket Probability "
   ]
  },
  {
   "cell_type": "code",
   "execution_count": 64,
   "metadata": {
    "collapsed": false
   },
   "outputs": [],
   "source": [
    "def multi_ticket_probability(n_tickets):\n",
    "    all_combinations=combinations(49,6)\n",
    "    p_winning = n_tickets / all_combinations *100\n",
    "    return 'With {0} tickets, you have {1:1.7f}% winning chance which corresponds to 1 chance out of {2:,}'.format(n_tickets,\n",
    "                                                                                                                   p_winning,\n",
    "                                                                                                                   int(all_combinations/n_tickets),\n",
    "                                                                                                                    )\n",
    "    "
   ]
  },
  {
   "cell_type": "code",
   "execution_count": 66,
   "metadata": {
    "collapsed": false
   },
   "outputs": [
    {
     "name": "stdout",
     "output_type": "stream",
     "text": [
      "With 1 tickets, you have 0.0000072% winning chance which corresponds to 1 chance out of 13,983,816\n",
      "With 10 tickets, you have 0.0000715% winning chance which corresponds to 1 chance out of 1,398,381\n",
      "With 100 tickets, you have 0.0007151% winning chance which corresponds to 1 chance out of 139,838\n",
      "With 10000 tickets, you have 0.0715112% winning chance which corresponds to 1 chance out of 1,398\n",
      "With 1000000 tickets, you have 7.1511238% winning chance which corresponds to 1 chance out of 13\n",
      "With 6991908 tickets, you have 50.0000000% winning chance which corresponds to 1 chance out of 2\n",
      "With 13983816 tickets, you have 100.0000000% winning chance which corresponds to 1 chance out of 1\n"
     ]
    }
   ],
   "source": [
    "#test\n",
    "for i in [1, 10, 100, 10000, 1000000, 6991908, 13983816]:\n",
    "    print(multi_ticket_probability(i))"
   ]
  },
  {
   "cell_type": "markdown",
   "metadata": {},
   "source": [
    "### Less winning Numbers - Function\n",
    "After discussion with the enginerring team we need to write a function that allows the user to know what are his chances of winning if he gets less than 6 numbers(2,3,4,5) matching the winning set \n",
    "- in the 6/49 there are effectively smaller prices for small winners :) \n",
    "The engineering team would like:\n",
    "- Inside the app, the user inputs:\n",
    "    - six different numbers from 1 to 49; and\n",
    "    - an integer between 2 and 5 that represents the number of winning numbers expected\n",
    "- Our function prints information about the probability of having the inputted number of winning numbers.\n"
   ]
  },
  {
   "cell_type": "markdown",
   "metadata": {},
   "source": [
    "to understnad the questions, we ant the proba of winning for the exact number the user gives.\n",
    "- it means that the numbers the user played are **partially** matching the wining tickets, which explain why we want to calculate how many combinaisons are left \n",
    "\n",
    "for partial winning it is important to split the problem in 2:the winning combination for 4 numbers for instance: ( **a ,b ,c ,d ,**e ,f ):\n",
    "    - a b c d are a combination made from the numbers matching the wining combination (combinations(6,4)\n",
    "    - e f are a combination **WHO DO NOT MATCHED** the final number of the wining combination so we need to find the number of combinations possible with e and f with the 43 others numbers ( we are without replacement so 49 - 6 numbers already drawn on the solutions)\n",
    "    - then total of winning will be the number combi_ticket * rest_combi\n",
    "    - then we compute the proba of winning by simple divisions"
   ]
  },
  {
   "cell_type": "code",
   "execution_count": 126,
   "metadata": {
    "collapsed": false
   },
   "outputs": [],
   "source": [
    "def probability_less_6(n_numbers):\n",
    "    n_combinations_ticket = combinations(6, n_numbers)\n",
    "    n_combinations_remaining = combinations(43, 6 - n_numbers)\n",
    "    successful_outcomes = n_combinations_ticket * n_combinations_remaining\n",
    "    total_outcomes= combinations(49,6)\n",
    "    p_winning = successful_outcomes / total_outcomes\n",
    "    return print('''You have {0:.7f}% chances of winning with {1} numbers,\n",
    "which means around 1 chance out of {2:,}'''.format(p_winning*100,\n",
    "                                             n_numbers,\n",
    "                                             round(total_outcomes / successful_outcomes)))"
   ]
  },
  {
   "cell_type": "code",
   "execution_count": 129,
   "metadata": {
    "collapsed": false
   },
   "outputs": [
    {
     "name": "stdout",
     "output_type": "stream",
     "text": [
      "You have 41.3019450% chances of winning with 1 numbers,\n",
      "which means around 1 chance out of 2\n",
      "You have 13.2378029% chances of winning with 2 numbers,\n",
      "which means around 1 chance out of 8\n",
      "You have 1.7650404% chances of winning with 3 numbers,\n",
      "which means around 1 chance out of 57\n",
      "You have 0.0968620% chances of winning with 4 numbers,\n",
      "which means around 1 chance out of 1,032\n",
      "You have 0.0018450% chances of winning with 5 numbers,\n",
      "which means around 1 chance out of 54,201\n",
      "You have 0.0000072% chances of winning with 6 numbers,\n",
      "which means around 1 chance out of 13,983,816\n"
     ]
    }
   ],
   "source": [
    "for n in range(1,7):\n",
    "    probability_less_6(n)"
   ]
  },
  {
   "cell_type": "code",
   "execution_count": 88,
   "metadata": {
    "collapsed": true
   },
   "outputs": [],
   "source": [
    "#from another exercice for training:\n",
    "def probability_less_3(n_winning_numbers):\n",
    "    \n",
    "    #Replace 6 with 3 (the numbers that are drawn)\n",
    "    n_combinations_ticket = combinations(3, n_winning_numbers)\n",
    "    #Replace 43 with 6-3 (the remaining incorrect numbers)\n",
    "    n_combinations_remaining = combinations(3, 3 - n_winning_numbers)\n",
    "    successful_outcomes = n_combinations_ticket * n_combinations_remaining\n",
    "    #Replace 49 with 6 (the pool) and 6 with 3 (the drawn numbers)\n",
    "    n_combinations_total = combinations(6, 3)    \n",
    "    probability = successful_outcomes / n_combinations_total\n",
    "    \n",
    "    probability_percentage = probability * 100    \n",
    "    combinations_simplified = round(n_combinations_total/successful_outcomes)\n",
    "    print('''Your chances of having {} winning numbers with this ticket are {:.6f}%.\n",
    "In other words, you have a 1 in {:,} chances to win.'''.format(n_winning_numbers, probability_percentage, int(combinations_simplified)))"
   ]
  },
  {
   "cell_type": "code",
   "execution_count": 94,
   "metadata": {
    "collapsed": false
   },
   "outputs": [
    {
     "name": "stdout",
     "output_type": "stream",
     "text": [
      "Your chances of having 1 winning numbers with this ticket are 45.000000%.\n",
      "In other words, you have a 1 in 2 chances to win.\n"
     ]
    }
   ],
   "source": [
    "probability_less_3(1)"
   ]
  },
  {
   "cell_type": "code",
   "execution_count": null,
   "metadata": {
    "collapsed": true
   },
   "outputs": [],
   "source": []
  }
 ],
 "metadata": {
  "kernelspec": {
   "display_name": "Python 3",
   "language": "python",
   "name": "python3"
  },
  "language_info": {
   "codemirror_mode": {
    "name": "ipython",
    "version": 3
   },
   "file_extension": ".py",
   "mimetype": "text/x-python",
   "name": "python",
   "nbconvert_exporter": "python",
   "pygments_lexer": "ipython3",
   "version": "3.4.3"
  }
 },
 "nbformat": 4,
 "nbformat_minor": 2
}
